{
 "cells": [
  {
   "cell_type": "code",
   "execution_count": 8,
   "metadata": {},
   "outputs": [
    {
     "name": "stdout",
     "output_type": "stream",
     "text": [
      "C\n",
      "A\n",
      "CA\n",
      "ACA\n",
      "CAACA\n"
     ]
    },
    {
     "data": {
      "text/plain": [
       "'CAACA'"
      ]
     },
     "execution_count": 8,
     "metadata": {},
     "output_type": "execute_result"
    }
   ],
   "source": [
    "def applyRules(src_str):\n",
    "    dest_str = \"\"\n",
    "    if src_str == 'C':\n",
    "        dest_str = 'A'   # Rule 1\n",
    "    elif src_str == 'A':\n",
    "        dest_str = 'CA'  # Rule 2\n",
    "    else:\n",
    "        dest_str = src_str    # no rules apply so keep the character\n",
    "    return dest_str\n",
    "\n",
    "\n",
    "def processString(old_str):\n",
    "    new_str = \"\"\n",
    "    for char in old_str:\n",
    "        new_str = new_str + applyRules(char)\n",
    "    return new_str\n",
    "\n",
    "\n",
    "def createLSystem(iterations,axiom):\n",
    "    init_str = axiom\n",
    "    final_str = \"\"\n",
    "    print(init_str)\n",
    "    for i in range(iterations):\n",
    "        final_str = processString(init_str)\n",
    "        init_str = final_str\n",
    "        print(final_str)\n",
    "    return final_str\n",
    "\n",
    "createLSystem(7, \"C\")"
   ]
  },
  {
   "cell_type": "code",
   "execution_count": null,
   "metadata": {},
   "outputs": [],
   "source": []
  }
 ],
 "metadata": {
  "kernelspec": {
   "display_name": "Python 3",
   "language": "python",
   "name": "python3"
  },
  "language_info": {
   "codemirror_mode": {
    "name": "ipython",
    "version": 3
   },
   "file_extension": ".py",
   "mimetype": "text/x-python",
   "name": "python",
   "nbconvert_exporter": "python",
   "pygments_lexer": "ipython3",
   "version": "3.7.4"
  }
 },
 "nbformat": 4,
 "nbformat_minor": 2
}
